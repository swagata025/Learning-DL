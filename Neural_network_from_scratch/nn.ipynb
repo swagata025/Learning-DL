{
 "cells": [
  {
   "cell_type": "markdown",
   "id": "b586a932",
   "metadata": {},
   "source": [
    "Preparing the dataframe for training"
   ]
  },
  {
   "cell_type": "code",
   "execution_count": 27,
   "id": "d4e9e556",
   "metadata": {},
   "outputs": [
    {
     "name": "stdout",
     "output_type": "stream",
     "text": [
      "   x1  x2  y\n",
      "0   0   0  0\n",
      "1   1   1  1\n",
      "2   1   0  0\n",
      "3   0   1  0\n",
      "0\n"
     ]
    }
   ],
   "source": [
    "import numpy as np\n",
    "import pandas as pd\n",
    "x_train = np.array([\n",
    "    [0,0],\n",
    "    [1,1],\n",
    "    [1,0],\n",
    "    [0,1]\n",
    "])\n",
    "y_train = np.array([\n",
    "    [0],\n",
    "    [1],\n",
    "    [0],\n",
    "    [0]\n",
    "])\n",
    "r,c = x_train.shape\n",
    "# y_train.shape\n",
    "#Combining the features and respective outputs\n",
    "data = np.hstack((x_train,y_train))\n",
    "#Converting it into dataframe \n",
    "df = pd.DataFrame(data, columns=[\"x1\",\"x2\",\"y\"])\n",
    "print(df)\n",
    "print(x_train[0][1])"
   ]
  },
  {
   "cell_type": "markdown",
   "id": "4037f168",
   "metadata": {},
   "source": [
    "Preparing the weight matrix for Wxh (between input and hidden layer) and Who (between hidden and output layer)"
   ]
  },
  {
   "cell_type": "code",
   "execution_count": 28,
   "id": "dad7a992",
   "metadata": {},
   "outputs": [
    {
     "name": "stdout",
     "output_type": "stream",
     "text": [
      "[[ 0.49671415 -0.1382643   0.64768854]\n",
      " [ 1.52302986 -0.23415337 -0.23413696]]\n"
     ]
    }
   ],
   "source": [
    "#defining the number of neurons in each layer to make it more systematic. The ANN consists of 3 layers, in input layer : 2, hidden layer : 3, output layer : 1 neurons respectively\n",
    "x_n = 2\n",
    "h_n = 3\n",
    "o_n = 1\n",
    "\n",
    "#defining the weight matrix \n",
    "np.random.seed(42)\n",
    "Wxh = np.random.randn(x_n,h_n)   #randn (n) for normalization  shape (2,3)\n",
    "Who = np.random.randn(h_n,o_n)   #randn (n) for normalization  shape (3,1)\n",
    "print(Wxh)"
   ]
  },
  {
   "cell_type": "markdown",
   "id": "d9350787",
   "metadata": {},
   "source": [
    "Equations for forward propagation "
   ]
  },
  {
   "cell_type": "markdown",
   "id": "92094e9e",
   "metadata": {},
   "source": [
    "We have 4 forward propagation equations. In the hidden layer, we have sigmoid activation function, then in the output layer we have sigmoid activation func as well."
   ]
  },
  {
   "cell_type": "code",
   "execution_count": 29,
   "id": "30274ca3",
   "metadata": {},
   "outputs": [],
   "source": [
    "def sigmoid(x):\n",
    "    result = 1/(1 + np.exp(-x))\n",
    "    return result "
   ]
  },
  {
   "cell_type": "code",
   "execution_count": 30,
   "id": "092e2025",
   "metadata": {},
   "outputs": [
    {
     "name": "stdout",
     "output_type": "stream",
     "text": [
      "[[0.71881406]\n",
      " [0.80607425]\n",
      " [0.73707158]\n",
      " [0.80660888]]\n"
     ]
    }
   ],
   "source": [
    "ua_h = x_train @ Wxh         #shape = (4,3)\n",
    "\n",
    "a_h = sigmoid(ua_h)          #shape = (4,3)\n",
    "\n",
    "ua_o = a_h @ Who             #shape = (4,1)\n",
    "\n",
    "output = sigmoid(ua_o)       #shape = (4,1)\n",
    "print(output)"
   ]
  },
  {
   "cell_type": "markdown",
   "id": "5e1c21e4",
   "metadata": {},
   "source": [
    "Cost error used here : Mean Squared Error"
   ]
  },
  {
   "cell_type": "code",
   "execution_count": 31,
   "id": "8bcaf473",
   "metadata": {},
   "outputs": [],
   "source": [
    "sq_term = np.square(output - y_train)\n",
    "mse = np.mean(sq_term)\n"
   ]
  },
  {
   "cell_type": "markdown",
   "id": "fde473fe",
   "metadata": {},
   "source": [
    "Backward Propagation"
   ]
  },
  {
   "cell_type": "code",
   "execution_count": 32,
   "id": "e8705170",
   "metadata": {},
   "outputs": [
    {
     "name": "stdout",
     "output_type": "stream",
     "text": [
      "[[0 1 1 0]\n",
      " [0 1 0 1]]\n"
     ]
    }
   ],
   "source": [
    "def transpose(x):\n",
    "      r,c = x.shape\n",
    "      L = []\n",
    "      \n",
    "      for i in range(c):\n",
    "            l = []\n",
    "            for j in range(r):\n",
    "                  l.append(x[j][i])\n",
    "            L.append(l)\n",
    "            del(l)\n",
    "      result = np.array(L)\n",
    "      return result\n",
    "      \n",
    "print(transpose(x_train))"
   ]
  },
  {
   "cell_type": "code",
   "execution_count": 33,
   "id": "5f66c7ec",
   "metadata": {},
   "outputs": [
    {
     "ename": "TypeError",
     "evalue": "'numpy.ndarray' object is not callable",
     "output_type": "error",
     "traceback": [
      "\u001b[31m---------------------------------------------------------------------------\u001b[39m",
      "\u001b[31mTypeError\u001b[39m                                 Traceback (most recent call last)",
      "\u001b[36mCell\u001b[39m\u001b[36m \u001b[39m\u001b[32mIn[33]\u001b[39m\u001b[32m, line 3\u001b[39m\n\u001b[32m      1\u001b[39m \u001b[38;5;66;03m#finding gradients wrt Wxh and Who, considering j is the mean squared error\u001b[39;00m\n\u001b[32m      2\u001b[39m \u001b[38;5;66;03m#to find out first, wrt Wxh, we need to find dj/do, do/dua_o, du_o/da_h, da_h/dua_h, dua_h/dWxh\u001b[39;00m\n\u001b[32m----> \u001b[39m\u001b[32m3\u001b[39m first_term = (y_train - output) @ \u001b[43msigmoid\u001b[49m\u001b[43m(\u001b[49m\u001b[43mua_o\u001b[49m\u001b[43m)\u001b[49m\u001b[43m(\u001b[49m\u001b[32;43m1\u001b[39;49m\u001b[43m \u001b[49m\u001b[43m-\u001b[49m\u001b[43m \u001b[49m\u001b[43msigmoid\u001b[49m\u001b[43m(\u001b[49m\u001b[43mua_o\u001b[49m\u001b[43m)\u001b[49m\u001b[43m)\u001b[49m      \u001b[38;5;66;03m#(4,1)\u001b[39;00m\n\u001b[32m      4\u001b[39m \u001b[38;5;66;03m# second_term = first_term @ transpose(Who)                              #(4,3)\u001b[39;00m\n\u001b[32m      5\u001b[39m \u001b[38;5;66;03m# third_term = second_term @ sigmoid(ua_h)(1 - sigmoid(ua_h))            #(4,3)\u001b[39;00m\n\u001b[32m      6\u001b[39m \u001b[38;5;66;03m# djdWxh = transpose(x_train) @ third_term                               #(2,3)\u001b[39;00m\n\u001b[32m      7\u001b[39m \n\u001b[32m      8\u001b[39m \u001b[38;5;66;03m# djdWho = transpose(a_h) @ first_term                                   #(3,1)\u001b[39;00m\n",
      "\u001b[31mTypeError\u001b[39m: 'numpy.ndarray' object is not callable"
     ]
    }
   ],
   "source": [
    "#finding gradients wrt Wxh and Who, considering j is the mean squared error\n",
    "#to find out first, wrt Wxh, we need to find dj/do, do/dua_o, du_o/da_h, da_h/dua_h, dua_h/dWxh\n",
    "first_term = (y_train - output) @ sigmoid(ua_o)(1 - sigmoid(ua_o))      #(4,1)\n",
    "# second_term = first_term @ transpose(Who)                              #(4,3)\n",
    "# third_term = second_term @ sigmoid(ua_h)(1 - sigmoid(ua_h))            #(4,3)\n",
    "# djdWxh = transpose(x_train) @ third_term                               #(2,3)\n",
    "\n",
    "# djdWho = transpose(a_h) @ first_term                                   #(3,1)"
   ]
  },
  {
   "cell_type": "markdown",
   "id": "6dde94f8",
   "metadata": {},
   "source": [
    "checking if my function is same as sigmoid derivative or not"
   ]
  },
  {
   "cell_type": "code",
   "execution_count": null,
   "id": "abbc8be9",
   "metadata": {},
   "outputs": [
    {
     "name": "stdout",
     "output_type": "stream",
     "text": [
      "[[0.25       0.25      ]\n",
      " [0.19661193 0.19661193]\n",
      " [0.19661193 0.25      ]\n",
      " [0.25       0.19661193]]\n"
     ]
    }
   ],
   "source": [
    "def sigmoid_derivatives(x):\n",
    "    num = np.exp(-x)\n",
    "    term = 1 + np.exp(-x)\n",
    "    denom = term ** 2\n",
    "    return num/denom\n",
    "result = sigmoid_derivatives(x_train)\n",
    "print(result)"
   ]
  },
  {
   "cell_type": "code",
   "execution_count": 35,
   "id": "52a3d9ac",
   "metadata": {},
   "outputs": [
    {
     "name": "stdout",
     "output_type": "stream",
     "text": [
      "[[0.25       0.25      ]\n",
      " [0.19661193 0.19661193]\n",
      " [0.19661193 0.25      ]\n",
      " [0.25       0.19661193]]\n"
     ]
    }
   ],
   "source": [
    "def sigmoid(x):\n",
    "    return 1 / (1 + np.exp(-x))\n",
    "\n",
    "def sigmoid_derivative(x):\n",
    "    s = sigmoid(x)\n",
    "    return s * (1 - s)\n",
    "\n",
    "print(sigmoid_derivative(x_train))\n"
   ]
  }
 ],
 "metadata": {
  "kernelspec": {
   "display_name": "dl",
   "language": "python",
   "name": "python3"
  },
  "language_info": {
   "codemirror_mode": {
    "name": "ipython",
    "version": 3
   },
   "file_extension": ".py",
   "mimetype": "text/x-python",
   "name": "python",
   "nbconvert_exporter": "python",
   "pygments_lexer": "ipython3",
   "version": "3.12.5"
  }
 },
 "nbformat": 4,
 "nbformat_minor": 5
}
