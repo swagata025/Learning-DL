{
 "cells": [
  {
   "cell_type": "markdown",
   "id": "b586a932",
   "metadata": {},
   "source": [
    "Preparing the dataframe for training"
   ]
  },
  {
   "cell_type": "code",
   "execution_count": 9,
   "id": "d4e9e556",
   "metadata": {},
   "outputs": [
    {
     "name": "stdout",
     "output_type": "stream",
     "text": [
      "   x1  x2  y\n",
      "0   0   0  0\n",
      "1   1   1  1\n",
      "2   1   0  0\n",
      "3   0   1  0\n"
     ]
    }
   ],
   "source": [
    "import numpy as np\n",
    "import pandas as pd\n",
    "x_train = np.array([\n",
    "    [0,0],\n",
    "    [1,1],\n",
    "    [1,0],\n",
    "    [0,1]\n",
    "])\n",
    "y_train = np.array([\n",
    "    [0],\n",
    "    [1],\n",
    "    [0],\n",
    "    [0]\n",
    "])\n",
    "# x_train.shape\n",
    "# y_train.shape\n",
    "#Combining the features and respective outputs\n",
    "data = np.hstack((x_train,y_train))\n",
    "#Converting it into dataframe \n",
    "df = pd.DataFrame(data, columns=[\"x1\",\"x2\",\"y\"])\n",
    "print(df)"
   ]
  },
  {
   "cell_type": "markdown",
   "id": "4037f168",
   "metadata": {},
   "source": [
    "Preparing the weight matrix for Wxh (between input and hidden layer) and Who (between hidden and output layer)"
   ]
  },
  {
   "cell_type": "code",
   "execution_count": 10,
   "id": "dad7a992",
   "metadata": {},
   "outputs": [
    {
     "name": "stdout",
     "output_type": "stream",
     "text": [
      "[[ 0.49671415 -0.1382643   0.64768854]\n",
      " [ 1.52302986 -0.23415337 -0.23413696]]\n"
     ]
    }
   ],
   "source": [
    "#defining the number of neurons in each layer to make it more systematic. The ANN consists of 3 layers, in input layer : 2, hidden layer : 3, output layer : 1 neurons respectively\n",
    "x_n = 2\n",
    "h_n = 3\n",
    "o_n = 1\n",
    "\n",
    "#defining the weight matrix \n",
    "np.random.seed(42)\n",
    "Wxh = np.random.randn(x_n,h_n)\n",
    "Who = np.random.randn(h_n,o_n)\n",
    "print(Wxh)"
   ]
  },
  {
   "cell_type": "markdown",
   "id": "d9350787",
   "metadata": {},
   "source": [
    "Equations for forward propagation "
   ]
  },
  {
   "cell_type": "code",
   "execution_count": 11,
   "id": "30274ca3",
   "metadata": {},
   "outputs": [],
   "source": [
    "def sigmoid(x):\n",
    "    pass"
   ]
  },
  {
   "cell_type": "code",
   "execution_count": 12,
   "id": "092e2025",
   "metadata": {},
   "outputs": [
    {
     "name": "stdout",
     "output_type": "stream",
     "text": [
      "[[0.28118594]\n",
      " [0.38877303]\n",
      " [0.3001949 ]\n",
      " [0.38958691]]\n"
     ]
    }
   ],
   "source": [
    "ua_h = x_train @ Wxh         #shape = (4,3)\n",
    "\n",
    "a_h = 1/(1 + np.exp(ua_h))   #shape = (4,3)\n",
    "# print(a_h)\n",
    "ua_o = a_h @ Who             #shape = (4,1)\n",
    "\n",
    "output = 1/(1 + np.exp(ua_o))   #shape = (4,1)\n",
    "print(output)"
   ]
  },
  {
   "cell_type": "markdown",
   "id": "5e1c21e4",
   "metadata": {},
   "source": [
    "Cost error used here : Mean Squared Error"
   ]
  },
  {
   "cell_type": "code",
   "execution_count": 13,
   "id": "8bcaf473",
   "metadata": {},
   "outputs": [],
   "source": [
    "sq_term = np.square(y_train - output)\n",
    "mse = np.mean(sq_term)\n"
   ]
  }
 ],
 "metadata": {
  "kernelspec": {
   "display_name": "dl",
   "language": "python",
   "name": "python3"
  },
  "language_info": {
   "codemirror_mode": {
    "name": "ipython",
    "version": 3
   },
   "file_extension": ".py",
   "mimetype": "text/x-python",
   "name": "python",
   "nbconvert_exporter": "python",
   "pygments_lexer": "ipython3",
   "version": "3.12.5"
  }
 },
 "nbformat": 4,
 "nbformat_minor": 5
}
