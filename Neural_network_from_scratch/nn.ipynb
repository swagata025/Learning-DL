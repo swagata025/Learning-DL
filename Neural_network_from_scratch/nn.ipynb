{
 "cells": [
  {
   "cell_type": "markdown",
   "id": "b586a932",
   "metadata": {},
   "source": [
    "Preparing the dataframe for training"
   ]
  },
  {
   "cell_type": "code",
   "execution_count": 111,
   "id": "d4e9e556",
   "metadata": {},
   "outputs": [
    {
     "name": "stdout",
     "output_type": "stream",
     "text": [
      "   x1  x2  y\n",
      "0   0   0  0\n",
      "1   1   1  1\n",
      "2   1   0  0\n",
      "3   0   1  0\n",
      "0\n"
     ]
    }
   ],
   "source": [
    "import numpy as np\n",
    "import pandas as pd\n",
    "x_train = np.array([\n",
    "    [0,0],\n",
    "    [1,1],\n",
    "    [1,0],\n",
    "    [0,1]\n",
    "])\n",
    "y_train = np.array([\n",
    "    [0],\n",
    "    [1],\n",
    "    [0],\n",
    "    [0]\n",
    "])\n",
    "r,c = x_train.shape\n",
    "# y_train.shape\n",
    "#Combining the features and respective outputs\n",
    "data = np.hstack((x_train,y_train))\n",
    "#Converting it into dataframe \n",
    "df = pd.DataFrame(data, columns=[\"x1\",\"x2\",\"y\"])\n",
    "print(df)\n",
    "print(x_train[0][1])"
   ]
  },
  {
   "cell_type": "markdown",
   "id": "4037f168",
   "metadata": {},
   "source": [
    "Preparing the weight matrix for Wxh (between input and hidden layer) and Who (between hidden and output layer)"
   ]
  },
  {
   "cell_type": "code",
   "execution_count": 112,
   "id": "dad7a992",
   "metadata": {},
   "outputs": [
    {
     "name": "stdout",
     "output_type": "stream",
     "text": [
      "[[ 0.49671415 -0.1382643   0.64768854]\n",
      " [ 1.52302986 -0.23415337 -0.23413696]]\n"
     ]
    }
   ],
   "source": [
    "#defining the number of neurons in each layer to make it more systematic. The ANN consists of 3 layers, in input layer : 2, hidden layer : 3, output layer : 1 neurons respectively\n",
    "x_n = 2\n",
    "h_n = 3\n",
    "o_n = 1\n",
    "\n",
    "#defining the weight matrix \n",
    "np.random.seed(42)\n",
    "Wxh = np.random.randn(x_n,h_n)   #randn (n) for normalization  shape (2,3)\n",
    "Who = np.random.randn(h_n,o_n)   #randn (n) for normalization  shape (3,1)\n",
    "print(Wxh)"
   ]
  },
  {
   "cell_type": "markdown",
   "id": "d9350787",
   "metadata": {},
   "source": [
    "Equations for forward propagation "
   ]
  },
  {
   "cell_type": "markdown",
   "id": "92094e9e",
   "metadata": {},
   "source": [
    "We have 4 forward propagation equations. In the hidden layer, we have sigmoid activation function, then in the output layer we have sigmoid activation func as well."
   ]
  },
  {
   "cell_type": "code",
   "execution_count": 113,
   "id": "30274ca3",
   "metadata": {},
   "outputs": [],
   "source": [
    "def sigmoid(x):\n",
    "    result = 1/(1 + np.exp(-x))\n",
    "    return result "
   ]
  },
  {
   "cell_type": "code",
   "execution_count": 114,
   "id": "092e2025",
   "metadata": {},
   "outputs": [],
   "source": [
    "def unactivated_hidden(x_train,Wxh):\n",
    "    ua_h = x_train @ Wxh         #shape = (4,3)\n",
    "    return ua_h\n",
    "\n",
    "def activated_hidden():\n",
    "    ua_h = unactivated_hidden(x_train,Wxh)\n",
    "    a_h = sigmoid(ua_h)          #shape = (4,3)\n",
    "    return a_h\n",
    "\n",
    "def unactivated_output(Who):\n",
    "    a_h = activated_hidden()\n",
    "    ua_o = a_h @ Who             #shape = (4,1)\n",
    "    return ua_o\n",
    "\n",
    "def activated_output():\n",
    "    ua_o = unactivated_output(Who)\n",
    "    output = sigmoid(ua_o)       #shape = (4,1)\n",
    "    return output\n",
    "\n"
   ]
  },
  {
   "cell_type": "markdown",
   "id": "5e1c21e4",
   "metadata": {},
   "source": [
    "Cost error used here : Mean Squared Error"
   ]
  },
  {
   "cell_type": "code",
   "execution_count": 115,
   "id": "8bcaf473",
   "metadata": {},
   "outputs": [],
   "source": [
    "def cost(output,y_train):\n",
    "    sq_term = np.square(output - y_train)\n",
    "    mse = np.mean(sq_term)\n",
    "    return mse\n",
    "\n"
   ]
  },
  {
   "cell_type": "markdown",
   "id": "fde473fe",
   "metadata": {},
   "source": [
    "Backward Propagation"
   ]
  },
  {
   "cell_type": "code",
   "execution_count": 116,
   "id": "e8705170",
   "metadata": {},
   "outputs": [],
   "source": [
    "def transpose(x):\n",
    "      r,c = x.shape\n",
    "      L = []\n",
    "      \n",
    "      for i in range(c):\n",
    "            l = []\n",
    "            for j in range(r):\n",
    "                  l.append(x[j][i])\n",
    "            L.append(l)\n",
    "            del(l)\n",
    "      result = np.array(L)\n",
    "      return result\n",
    "      \n",
    "# print(transpose(x_train))"
   ]
  },
  {
   "cell_type": "markdown",
   "id": "de51b89f",
   "metadata": {},
   "source": [
    "sigmoid derivative funtion"
   ]
  },
  {
   "cell_type": "code",
   "execution_count": 117,
   "id": "4ee6577b",
   "metadata": {},
   "outputs": [],
   "source": [
    "def sigmoid_derivative(x):\n",
    "    num = np.exp(-x)\n",
    "    term = 1 + np.exp(-x)\n",
    "    denom = term ** 2\n",
    "    return num/denom\n",
    "# result = sigmoid_derivative(x_train)\n",
    "# print(result)"
   ]
  },
  {
   "cell_type": "code",
   "execution_count": 118,
   "id": "5f66c7ec",
   "metadata": {},
   "outputs": [],
   "source": [
    "#finding gradients wrt Wxh and Who, considering j is the mean squared error\n",
    "#to find out first, wrt Wxh, we need to find dj/do, do/dua_o, du_o/da_h, da_h/dua_h, dua_h/dWxh\n",
    "def gradient_hiddden(y_train):\n",
    "    first_term = (activated_output() - y_train) * sigmoid_derivative(unactivated_output(Who))             #(4,1)\n",
    "    second_term = first_term @ transpose(Who)                                                             #(4,3)\n",
    "    third_term = second_term * sigmoid_derivative(unactivated_hidden(x_train,Wxh))                        #(4,3)\n",
    "    djdWxh = transpose(x_train) @ third_term\n",
    "    return djdWxh\n",
    "\n",
    "def gradient_output(y_train):\n",
    "    first_term = (activated_output() - y_train) * sigmoid_derivative(unactivated_output(Who))             #(4,1)\n",
    "    djdWho = transpose(activated_hidden()) @ first_term                                                   #(3,1)\n",
    "    return djdWho\n",
    "# first_term = (activated_output() - y_train) * sigmoid_derivative(unactivated_output(Who))             #(4,1)\n",
    "# second_term = first_term @ transpose(Who)                                                             #(4,3)\n",
    "# third_term = second_term * sigmoid_derivative(unactivated_hidden(x_train,Wxh))                        #(4,3)\n",
    "# djdWxh = transpose(x_train) @ third_term                                                              #(2,3)\n",
    "\n",
    "# djdWho = transpose(activated_hidden()) @ first_term                                                                  #(3,1)\n",
    "\n",
    "# djdWho.shape"
   ]
  },
  {
   "cell_type": "markdown",
   "id": "97712230",
   "metadata": {},
   "source": [
    "Learning the weights"
   ]
  },
  {
   "cell_type": "code",
   "execution_count": 119,
   "id": "866da733",
   "metadata": {},
   "outputs": [],
   "source": [
    "alpha = 0.01\n",
    "def update_Wxh(alpha,Wxh):\n",
    "    Wxh = Wxh - (alpha * gradient_hiddden(y_train))\n",
    "    return Wxh\n",
    "\n",
    "def update_Who(alpha,Who):\n",
    "    Who = Who - (alpha * gradient_output(y_train))\n",
    "    return Who\n",
    "\n",
    "\n"
   ]
  },
  {
   "cell_type": "markdown",
   "id": "a2d4580f",
   "metadata": {},
   "source": [
    "Training the artificial neural network"
   ]
  },
  {
   "cell_type": "code",
   "execution_count": 120,
   "id": "97cd88b2",
   "metadata": {},
   "outputs": [
    {
     "name": "stdout",
     "output_type": "stream",
     "text": [
      "[np.float64(0.43637137864188325), np.float64(0.3682834782470167), np.float64(0.30857108709280534), np.float64(0.26555873673709374), np.float64(0.23824305939461687)]\n"
     ]
    }
   ],
   "source": [
    "output = activated_output()\n",
    "costs = []\n",
    "for i in range(500):\n",
    "    Wxh = update_Wxh(alpha,Wxh)\n",
    "    Who = update_Who(alpha,Who)\n",
    "    output = activated_output()\n",
    "    if (i%100==0):\n",
    "        new_cost = cost(output,y_train)\n",
    "        costs.append(new_cost)\n",
    "print(costs)\n"
   ]
  }
 ],
 "metadata": {
  "kernelspec": {
   "display_name": "dl",
   "language": "python",
   "name": "python3"
  },
  "language_info": {
   "codemirror_mode": {
    "name": "ipython",
    "version": 3
   },
   "file_extension": ".py",
   "mimetype": "text/x-python",
   "name": "python",
   "nbconvert_exporter": "python",
   "pygments_lexer": "ipython3",
   "version": "3.12.5"
  }
 },
 "nbformat": 4,
 "nbformat_minor": 5
}
