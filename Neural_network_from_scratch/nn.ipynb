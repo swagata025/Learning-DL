{
 "cells": [
  {
   "cell_type": "markdown",
   "id": "b586a932",
   "metadata": {},
   "source": [
    "Preparing the dataframe for training"
   ]
  },
  {
   "cell_type": "code",
   "execution_count": 9,
   "id": "d4e9e556",
   "metadata": {},
   "outputs": [
    {
     "name": "stdout",
     "output_type": "stream",
     "text": [
      "   x1  x2  y\n",
      "0   0   0  0\n",
      "1   1   1  1\n",
      "2   1   0  0\n",
      "3   0   1  0\n"
     ]
    }
   ],
   "source": [
    "import numpy as np\n",
    "import pandas as pd\n",
    "x_train = np.array([\n",
    "    [0,0],\n",
    "    [1,1],\n",
    "    [1,0],\n",
    "    [0,1]\n",
    "])\n",
    "y_train = np.array([\n",
    "    [0],\n",
    "    [1],\n",
    "    [0],\n",
    "    [0]\n",
    "])\n",
    "# x_train.shape\n",
    "# y_train.shape\n",
    "#Combining the features and respective outputs\n",
    "data = np.hstack((x_train,y_train))\n",
    "#Converting it into dataframe \n",
    "df = pd.DataFrame(data, columns=[\"x1\",\"x2\",\"y\"])\n",
    "print(df)"
   ]
  }
 ],
 "metadata": {
  "kernelspec": {
   "display_name": "dl",
   "language": "python",
   "name": "python3"
  },
  "language_info": {
   "codemirror_mode": {
    "name": "ipython",
    "version": 3
   },
   "file_extension": ".py",
   "mimetype": "text/x-python",
   "name": "python",
   "nbconvert_exporter": "python",
   "pygments_lexer": "ipython3",
   "version": "3.12.5"
  }
 },
 "nbformat": 4,
 "nbformat_minor": 5
}
